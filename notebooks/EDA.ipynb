{
 "cells": [
  {
   "cell_type": "code",
   "execution_count": null,
   "metadata": {},
   "outputs": [],
   "source": [
    "import pandas as pd\n",
    "import plotly.express as px\n",
    "\n",
    "# Cargar los datos\n",
    "df = pd.read_csv('/Users/kevinrobertotorresruiz/Documents/vehicles/vehicles_us.csv')\n",
    "\n",
    "# Mostrar las primeras filas y la información del DataFrame\n",
    "print(df.head())\n",
    "print(df.info())\n",
    "\n",
    "# Crear un histograma del precio\n",
    "fig1 = px.histogram(df, x=\"price\", title=\"Distribución de precios\")\n",
    "fig1.show()\n",
    "\n",
    "# Crear un gráfico de dispersión de precio vs. año\n",
    "fig2 = px.scatter(df, x=\"year\", y=\"price\", title=\"Precio vs. Año\")\n",
    "fig2.show()"
   ]
  }
 ],
 "metadata": {
  "kernelspec": {
   "display_name": "Python 3",
   "language": "python",
   "name": "python3"
  },
  "language_info": {
   "name": "python",
   "version": "3.9.12"
  }
 },
 "nbformat": 4,
 "nbformat_minor": 2
}
